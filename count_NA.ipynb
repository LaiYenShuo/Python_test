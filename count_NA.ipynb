{
 "cells": [
  {
   "cell_type": "code",
   "execution_count": 1,
   "metadata": {},
   "outputs": [],
   "source": [
    " def count_NA(data):\n",
    "        tmp = []\n",
    "        result = []\n",
    "        for i in range(0,data.shape[1]):\n",
    "            if i == 0:\n",
    "                result = data.iloc[:,i].isna().value_counts()\n",
    "            else:\n",
    "                tmp = data.iloc[:,i].isna().value_counts()\n",
    "                result = pd.concat([result, tmp], axis = 1)\n",
    "        result = result.fillna('0')\n",
    "        result.index = ['non_NA_count', 'NA_count']\n",
    "        return result"
   ]
  },
  {
   "cell_type": "code",
   "execution_count": null,
   "metadata": {},
   "outputs": [],
   "source": [
    "# Find all CSV files in a directory using Python\n",
    "import os\n",
    "import glob\n",
    "\n",
    "path = 'D:/terry_d/台中市政府_巨量資料/台中社政資料/'\n",
    "extension = 'csv'\n",
    "os.chdir(path)\n",
    "result = glob.glob('*.{}'.format(extension))\n",
    "for i in range(len(result)):\n",
    "    x = count_NA(pd.read_csv(result[i]))\n",
    "    x.to_csv('D:/terry_d/台中市政府_巨量資料/台中社政資料/clear/' + 'NA' + result[i])"
   ]
  }
 ],
 "metadata": {
  "kernelspec": {
   "display_name": "Python 3",
   "language": "python",
   "name": "python3"
  },
  "language_info": {
   "codemirror_mode": {
    "name": "ipython",
    "version": 3
   },
   "file_extension": ".py",
   "mimetype": "text/x-python",
   "name": "python",
   "nbconvert_exporter": "python",
   "pygments_lexer": "ipython3",
   "version": "3.7.3"
  }
 },
 "nbformat": 4,
 "nbformat_minor": 2
}
