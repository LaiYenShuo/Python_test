{
 "cells": [
  {
   "cell_type": "markdown",
   "metadata": {},
   "source": [
    "## Cluster Analysis"
   ]
  },
  {
   "cell_type": "code",
   "execution_count": 1,
   "metadata": {},
   "outputs": [],
   "source": [
    "%matplotlib inline\n",
    "import cx_Oracle\n",
    "import time\n",
    "import datetime\n",
    "import pandas as pd\n",
    "import numpy as np\n",
    "import matplotlib.pyplot as plt\n",
    "import seaborn as sns\n",
    "import time"
   ]
  },
  {
   "cell_type": "code",
   "execution_count": 2,
   "metadata": {},
   "outputs": [
    {
     "data": {
      "text/plain": [
       "<cx_Oracle.Cursor on <cx_Oracle.Connection to socsusr@192.168.1.140:1521/testdb12c>>"
      ]
     },
     "execution_count": 2,
     "metadata": {},
     "output_type": "execute_result"
    }
   ],
   "source": [
    "conn = cx_Oracle.connect(\"socsusr\", \"socsusr1234\", \"192.168.1.140:1521/testdb12c\", encoding=\"UTF-8\", nencoding=\"UTF-8\")\n",
    "cur = conn.cursor()\n",
    "cur"
   ]
  },
  {
   "cell_type": "code",
   "execution_count": 3,
   "metadata": {},
   "outputs": [],
   "source": [
    "sql = '''\n",
    "select * from \n",
    "\"A1D_LOW_TYPE\"\n",
    "'''\n",
    "df = pd.read_sql(sql, con = conn)"
   ]
  },
  {
   "cell_type": "code",
   "execution_count": 4,
   "metadata": {},
   "outputs": [],
   "source": [
    "# AGE < 0 and null\n",
    "df = df.drop(index = [33045, 33046, 33873, 33882])\n",
    "df = df.drop(index = [125380, 125682, 170789, 170791, 215960, 215961])\n"
   ]
  },
  {
   "cell_type": "code",
   "execution_count": 5,
   "metadata": {},
   "outputs": [
    {
     "name": "stdout",
     "output_type": "stream",
     "text": [
      "<class 'pandas.core.frame.DataFrame'>\n",
      "Int64Index: 222433 entries, 0 to 222442\n",
      "Data columns (total 27 columns):\n",
      "NATION             222433 non-null object\n",
      "BIRTHDAY           222433 non-null object\n",
      "AGE                222433 non-null float64\n",
      "SEX                222433 non-null object\n",
      "APPLIED            222433 non-null object\n",
      "HELPED             222433 non-null object\n",
      "DRAWED             222433 non-null object\n",
      "GRANT_YN           222433 non-null object\n",
      "VETERAN            222433 non-null object\n",
      "SETTLED            222433 non-null object\n",
      "ABORIGINE          222433 non-null object\n",
      "FOREIGNER          222433 non-null object\n",
      "FOREIGNER_CHILD    222433 non-null object\n",
      "SINGLE_TYPE        5786 non-null object\n",
      "SINGLE_PARENT      222433 non-null object\n",
      "SINGLE_CHILD       222433 non-null object\n",
      "NEXT_GERATION      222433 non-null object\n",
      "SINGLE_LIVE        222433 non-null object\n",
      "SICK_CARD          222433 non-null object\n",
      "SPC_WOM            222433 non-null object\n",
      "TRANJOB_YN         222433 non-null object\n",
      "GRADUATE_YN        222433 non-null object\n",
      "CRIP_TYPE          23999 non-null object\n",
      "CRIP_LEVEL         23999 non-null object\n",
      "MARRY              222375 non-null object\n",
      "EXCEPT_YN          222433 non-null object\n",
      "EXCEPT_PROP        222433 non-null object\n",
      "dtypes: float64(1), object(26)\n",
      "memory usage: 47.5+ MB\n"
     ]
    }
   ],
   "source": [
    "x = ['NATION', 'BIRTHDAY', 'AGE', 'SEX', 'APPLIED', 'HELPED', 'DRAWED', 'GRANT_YN',\n",
    "'VETERAN', 'SETTLED', 'ABORIGINE', 'FOREIGNER', 'FOREIGNER_CHILD', 'SINGLE_TYPE', 'SINGLE_PARENT',\n",
    "'SINGLE_CHILD', 'NEXT_GERATION', 'SINGLE_LIVE', 'SICK_CARD', 'SPC_WOM', 'TRANJOB_YN', 'GRADUATE_YN',\n",
    "'CRIP_TYPE', 'CRIP_LEVEL', 'MARRY', 'EXCEPT_YN', 'EXCEPT_PROP'\n",
    "]\n",
    "tab = df[x]\n",
    "tab.head()\n",
    "tab.info()"
   ]
  },
  {
   "cell_type": "code",
   "execution_count": 6,
   "metadata": {},
   "outputs": [
    {
     "name": "stderr",
     "output_type": "stream",
     "text": [
      "C:\\ProgramData\\Anaconda3\\lib\\site-packages\\ipykernel_launcher.py:4: SettingWithCopyWarning: \n",
      "A value is trying to be set on a copy of a slice from a DataFrame.\n",
      "Try using .loc[row_indexer,col_indexer] = value instead\n",
      "\n",
      "See the caveats in the documentation: http://pandas.pydata.org/pandas-docs/stable/indexing.html#indexing-view-versus-copy\n",
      "  after removing the cwd from sys.path.\n",
      "C:\\ProgramData\\Anaconda3\\lib\\site-packages\\ipykernel_launcher.py:5: SettingWithCopyWarning: \n",
      "A value is trying to be set on a copy of a slice from a DataFrame.\n",
      "Try using .loc[row_indexer,col_indexer] = value instead\n",
      "\n",
      "See the caveats in the documentation: http://pandas.pydata.org/pandas-docs/stable/indexing.html#indexing-view-versus-copy\n",
      "  \"\"\"\n",
      "C:\\ProgramData\\Anaconda3\\lib\\site-packages\\ipykernel_launcher.py:6: SettingWithCopyWarning: \n",
      "A value is trying to be set on a copy of a slice from a DataFrame.\n",
      "Try using .loc[row_indexer,col_indexer] = value instead\n",
      "\n",
      "See the caveats in the documentation: http://pandas.pydata.org/pandas-docs/stable/indexing.html#indexing-view-versus-copy\n",
      "  \n",
      "C:\\ProgramData\\Anaconda3\\lib\\site-packages\\ipykernel_launcher.py:7: SettingWithCopyWarning: \n",
      "A value is trying to be set on a copy of a slice from a DataFrame.\n",
      "Try using .loc[row_indexer,col_indexer] = value instead\n",
      "\n",
      "See the caveats in the documentation: http://pandas.pydata.org/pandas-docs/stable/indexing.html#indexing-view-versus-copy\n",
      "  import sys\n",
      "C:\\ProgramData\\Anaconda3\\lib\\site-packages\\ipykernel_launcher.py:8: SettingWithCopyWarning: \n",
      "A value is trying to be set on a copy of a slice from a DataFrame.\n",
      "Try using .loc[row_indexer,col_indexer] = value instead\n",
      "\n",
      "See the caveats in the documentation: http://pandas.pydata.org/pandas-docs/stable/indexing.html#indexing-view-versus-copy\n",
      "  \n",
      "C:\\ProgramData\\Anaconda3\\lib\\site-packages\\ipykernel_launcher.py:9: SettingWithCopyWarning: \n",
      "A value is trying to be set on a copy of a slice from a DataFrame.\n",
      "Try using .loc[row_indexer,col_indexer] = value instead\n",
      "\n",
      "See the caveats in the documentation: http://pandas.pydata.org/pandas-docs/stable/indexing.html#indexing-view-versus-copy\n",
      "  if __name__ == '__main__':\n",
      "C:\\ProgramData\\Anaconda3\\lib\\site-packages\\ipykernel_launcher.py:10: SettingWithCopyWarning: \n",
      "A value is trying to be set on a copy of a slice from a DataFrame.\n",
      "Try using .loc[row_indexer,col_indexer] = value instead\n",
      "\n",
      "See the caveats in the documentation: http://pandas.pydata.org/pandas-docs/stable/indexing.html#indexing-view-versus-copy\n",
      "  # Remove the CWD from sys.path while we load stuff.\n",
      "C:\\ProgramData\\Anaconda3\\lib\\site-packages\\ipykernel_launcher.py:11: SettingWithCopyWarning: \n",
      "A value is trying to be set on a copy of a slice from a DataFrame.\n",
      "Try using .loc[row_indexer,col_indexer] = value instead\n",
      "\n",
      "See the caveats in the documentation: http://pandas.pydata.org/pandas-docs/stable/indexing.html#indexing-view-versus-copy\n",
      "  # This is added back by InteractiveShellApp.init_path()\n",
      "C:\\ProgramData\\Anaconda3\\lib\\site-packages\\ipykernel_launcher.py:12: SettingWithCopyWarning: \n",
      "A value is trying to be set on a copy of a slice from a DataFrame.\n",
      "Try using .loc[row_indexer,col_indexer] = value instead\n",
      "\n",
      "See the caveats in the documentation: http://pandas.pydata.org/pandas-docs/stable/indexing.html#indexing-view-versus-copy\n",
      "  if sys.path[0] == '':\n",
      "C:\\ProgramData\\Anaconda3\\lib\\site-packages\\ipykernel_launcher.py:13: SettingWithCopyWarning: \n",
      "A value is trying to be set on a copy of a slice from a DataFrame.\n",
      "Try using .loc[row_indexer,col_indexer] = value instead\n",
      "\n",
      "See the caveats in the documentation: http://pandas.pydata.org/pandas-docs/stable/indexing.html#indexing-view-versus-copy\n",
      "  del sys.path[0]\n",
      "C:\\ProgramData\\Anaconda3\\lib\\site-packages\\ipykernel_launcher.py:14: SettingWithCopyWarning: \n",
      "A value is trying to be set on a copy of a slice from a DataFrame.\n",
      "Try using .loc[row_indexer,col_indexer] = value instead\n",
      "\n",
      "See the caveats in the documentation: http://pandas.pydata.org/pandas-docs/stable/indexing.html#indexing-view-versus-copy\n",
      "  \n",
      "C:\\ProgramData\\Anaconda3\\lib\\site-packages\\ipykernel_launcher.py:15: SettingWithCopyWarning: \n",
      "A value is trying to be set on a copy of a slice from a DataFrame.\n",
      "Try using .loc[row_indexer,col_indexer] = value instead\n",
      "\n",
      "See the caveats in the documentation: http://pandas.pydata.org/pandas-docs/stable/indexing.html#indexing-view-versus-copy\n",
      "  from ipykernel import kernelapp as app\n",
      "C:\\ProgramData\\Anaconda3\\lib\\site-packages\\ipykernel_launcher.py:16: SettingWithCopyWarning: \n",
      "A value is trying to be set on a copy of a slice from a DataFrame.\n",
      "Try using .loc[row_indexer,col_indexer] = value instead\n",
      "\n",
      "See the caveats in the documentation: http://pandas.pydata.org/pandas-docs/stable/indexing.html#indexing-view-versus-copy\n",
      "  app.launch_new_instance()\n",
      "C:\\ProgramData\\Anaconda3\\lib\\site-packages\\ipykernel_launcher.py:17: SettingWithCopyWarning: \n",
      "A value is trying to be set on a copy of a slice from a DataFrame.\n",
      "Try using .loc[row_indexer,col_indexer] = value instead\n",
      "\n",
      "See the caveats in the documentation: http://pandas.pydata.org/pandas-docs/stable/indexing.html#indexing-view-versus-copy\n",
      "C:\\ProgramData\\Anaconda3\\lib\\site-packages\\ipykernel_launcher.py:18: SettingWithCopyWarning: \n",
      "A value is trying to be set on a copy of a slice from a DataFrame.\n",
      "Try using .loc[row_indexer,col_indexer] = value instead\n",
      "\n",
      "See the caveats in the documentation: http://pandas.pydata.org/pandas-docs/stable/indexing.html#indexing-view-versus-copy\n",
      "C:\\ProgramData\\Anaconda3\\lib\\site-packages\\ipykernel_launcher.py:19: SettingWithCopyWarning: \n",
      "A value is trying to be set on a copy of a slice from a DataFrame.\n",
      "Try using .loc[row_indexer,col_indexer] = value instead\n",
      "\n",
      "See the caveats in the documentation: http://pandas.pydata.org/pandas-docs/stable/indexing.html#indexing-view-versus-copy\n",
      "C:\\ProgramData\\Anaconda3\\lib\\site-packages\\ipykernel_launcher.py:20: SettingWithCopyWarning: \n",
      "A value is trying to be set on a copy of a slice from a DataFrame.\n",
      "Try using .loc[row_indexer,col_indexer] = value instead\n",
      "\n",
      "See the caveats in the documentation: http://pandas.pydata.org/pandas-docs/stable/indexing.html#indexing-view-versus-copy\n",
      "C:\\ProgramData\\Anaconda3\\lib\\site-packages\\ipykernel_launcher.py:21: SettingWithCopyWarning: \n",
      "A value is trying to be set on a copy of a slice from a DataFrame.\n",
      "Try using .loc[row_indexer,col_indexer] = value instead\n",
      "\n",
      "See the caveats in the documentation: http://pandas.pydata.org/pandas-docs/stable/indexing.html#indexing-view-versus-copy\n",
      "C:\\ProgramData\\Anaconda3\\lib\\site-packages\\ipykernel_launcher.py:22: SettingWithCopyWarning: \n",
      "A value is trying to be set on a copy of a slice from a DataFrame.\n",
      "Try using .loc[row_indexer,col_indexer] = value instead\n",
      "\n",
      "See the caveats in the documentation: http://pandas.pydata.org/pandas-docs/stable/indexing.html#indexing-view-versus-copy\n",
      "C:\\ProgramData\\Anaconda3\\lib\\site-packages\\ipykernel_launcher.py:23: SettingWithCopyWarning: \n",
      "A value is trying to be set on a copy of a slice from a DataFrame.\n",
      "Try using .loc[row_indexer,col_indexer] = value instead\n",
      "\n",
      "See the caveats in the documentation: http://pandas.pydata.org/pandas-docs/stable/indexing.html#indexing-view-versus-copy\n",
      "C:\\ProgramData\\Anaconda3\\lib\\site-packages\\ipykernel_launcher.py:24: SettingWithCopyWarning: \n",
      "A value is trying to be set on a copy of a slice from a DataFrame.\n",
      "Try using .loc[row_indexer,col_indexer] = value instead\n",
      "\n",
      "See the caveats in the documentation: http://pandas.pydata.org/pandas-docs/stable/indexing.html#indexing-view-versus-copy\n",
      "C:\\ProgramData\\Anaconda3\\lib\\site-packages\\ipykernel_launcher.py:26: SettingWithCopyWarning: \n",
      "A value is trying to be set on a copy of a slice from a DataFrame.\n",
      "Try using .loc[row_indexer,col_indexer] = value instead\n",
      "\n",
      "See the caveats in the documentation: http://pandas.pydata.org/pandas-docs/stable/indexing.html#indexing-view-versus-copy\n",
      "C:\\ProgramData\\Anaconda3\\lib\\site-packages\\ipykernel_launcher.py:28: SettingWithCopyWarning: \n",
      "A value is trying to be set on a copy of a slice from a DataFrame.\n",
      "Try using .loc[row_indexer,col_indexer] = value instead\n",
      "\n",
      "See the caveats in the documentation: http://pandas.pydata.org/pandas-docs/stable/indexing.html#indexing-view-versus-copy\n"
     ]
    }
   ],
   "source": [
    "from sklearn.preprocessing import LabelEncoder\n",
    "label =LabelEncoder()\n",
    "df['LOW_TYPE']=label.fit_transform(df['LOW_TYPE'])\n",
    "tab['APPLIED']=label.fit_transform(tab['APPLIED'])\n",
    "tab['HELPED']=label.fit_transform(tab['HELPED'])\n",
    "tab['DRAWED']=label.fit_transform(tab['DRAWED'])\n",
    "tab['GRANT_YN']=label.fit_transform(tab['GRANT_YN'])\n",
    "tab['VETERAN']=label.fit_transform(tab['VETERAN'])\n",
    "tab['SETTLED']=label.fit_transform(tab['SETTLED'])\n",
    "tab['ABORIGINE']=label.fit_transform(tab['ABORIGINE'])\n",
    "tab['FOREIGNER']=label.fit_transform(tab['FOREIGNER'])\n",
    "tab['FOREIGNER_CHILD']=label.fit_transform(tab['FOREIGNER_CHILD'])\n",
    "tab['SINGLE_PARENT']=label.fit_transform(tab['SINGLE_PARENT'])\n",
    "tab['SINGLE_CHILD']=label.fit_transform(tab['SINGLE_CHILD'])\n",
    "tab['NEXT_GERATION']=label.fit_transform(tab['NEXT_GERATION'])\n",
    "tab['SINGLE_LIVE']=label.fit_transform(tab['SINGLE_LIVE'])\n",
    "tab['SICK_CARD']=label.fit_transform(tab['SICK_CARD'])\n",
    "tab['SPC_WOM']=label.fit_transform(tab['SPC_WOM'])\n",
    "tab['TRANJOB_YN']=label.fit_transform(tab['TRANJOB_YN'])\n",
    "tab['GRADUATE_YN']=label.fit_transform(tab['GRADUATE_YN'])\n",
    "tab['EXCEPT_YN']=label.fit_transform(tab['EXCEPT_YN'])\n",
    "tab['EXCEPT_PROP']=label.fit_transform(tab['EXCEPT_PROP'])\n",
    "tab['MARRY']=label.fit_transform(tab.MARRY.fillna('0'))\n",
    "tab['SINGLE_TYPE']=label.fit_transform(tab.SINGLE_TYPE.fillna('0'))\n",
    "\n",
    "tab['CRIP_TYPE'] = tab.CRIP_TYPE.fillna(0)\n",
    "# tab['SINGLE_TYPE'] = tab.SINGLE_TYPE.fillna(0)\n",
    "tab['CRIP_LEVEL'] = tab.CRIP_LEVEL.fillna(0)\n"
   ]
  },
  {
   "cell_type": "code",
   "execution_count": 7,
   "metadata": {},
   "outputs": [
    {
     "name": "stdout",
     "output_type": "stream",
     "text": [
      "0 ['1' '3' '2']\n",
      "1 ['0610626' '0920711' '0471010' ... '0060120' '-080914' '-020129']\n",
      "2 [ 46.  15.  60.  84.  70.  39.  72.  52.  20.  58.  11.  14.  50.  18.\n",
      "  48.  71.  65.  44.  53.  24.  19.  17.  47.  74.  55.   2.  10.  34.\n",
      "  13.  64.  91.  62.  29.  59.  88.  21.  28.  56.  40.  45.  16.  67.\n",
      "  32.  66.   9.  51.  73.  27.  61.  69.  43.  35.  77.  94.  93.  42.\n",
      "  63.   4.  36.  82.  30.  68.  41.  79.  25.  23.  33.  37.   6.  12.\n",
      "  80.  57.   8.   1.  85.  96.  38.  76.   3.   7.  22.  49.  75.  86.\n",
      "  54.  81.  78.  87.  89.   5.  97.   0.  26.  90. 100.  31.  95.  83.\n",
      "  99.  92. 115. 106. 112. 101.  98. 103. 105. 122. 116. 111. 104. 108.\n",
      " 117. 109. 127. 114. 102. 113. 110. 121. 119. 131. 123. 118. 126. 124.\n",
      " 120. 133. 128. 130. 134. 125. 129. 136. 141. 137. 138. 140.]\n",
      "3 ['2' '1']\n",
      "4 [1 0]\n",
      "5 [1 0]\n",
      "6 [1 0]\n",
      "7 [1 0]\n",
      "8 [0 1]\n",
      "9 [0 1]\n",
      "10 [0 1]\n",
      "11 [0 1]\n",
      "12 [0 1]\n",
      "13 [1 0 2 3]\n",
      "14 [1 0]\n",
      "15 [0 1]\n",
      "16 [0 1]\n",
      "17 [0 1]\n",
      "18 [0 1]\n",
      "19 [0 1]\n",
      "20 [0 1]\n",
      "21 [0 1]\n",
      "22 [0 '06' '01' '17' '04' '11' '15' '02' '10' '05' '07' '03' '09' '08' '99'\n",
      " '18' '16' '12' '14' '13']\n",
      "23 [0 '1' '3' '4' '2' '5']\n",
      "24 [1 3 2 4 5 0]\n",
      "25 [0 1]\n",
      "26 [0 1]\n"
     ]
    }
   ],
   "source": [
    "for i in range(tab.shape[1]):\n",
    "    print(i, tab[x].iloc[:,i].unique())\n"
   ]
  },
  {
   "cell_type": "code",
   "execution_count": null,
   "metadata": {},
   "outputs": [],
   "source": [
    "tab.to_csv(\"C:/Users/SA/Desktop/a1d_low_type.csv\", index = 0)"
   ]
  },
  {
   "cell_type": "code",
   "execution_count": 8,
   "metadata": {},
   "outputs": [
    {
     "name": "stdout",
     "output_type": "stream",
     "text": [
      "2\n",
      "3\n",
      "4\n",
      "5\n",
      "6\n",
      "7\n",
      "8\n",
      "9\n",
      "10\n"
     ]
    },
    {
     "data": {
      "image/png": "[encoded data removed]",
      "text/plain": [
       "<Figure size 432x288 with 1 Axes>"
      ]
     },
     "metadata": {
      "needs_background": "light"
     },
     "output_type": "display_data"
    },
    {
     "name": "stdout",
     "output_type": "stream",
     "text": [
      "[0.5913043374151761, 0.5930133212777422, 0.5859166881564334, 0.558314901927549, 0.5442302047943839, 0.547958043827612, 0.5389881020567983, 0.5328124799332891, 0.5410275119402994]\n"
     ]
    }
   ],
   "source": [
    "# from sklearn.cluster import KMeans\n",
    "from sklearn import cluster, datasets, metrics\n",
    "# clf = cluster.KMeans(n_clusters = 4)\n",
    "# X = [tab.AGE, tab.SINGLE_LIVE, tab.SEX]\n",
    "# clf.fit(tab[x])\n",
    "# print(clf.labels_)\n",
    "# print(X)\n",
    "# df[tab.AGE == -16]\n",
    "silhouette_avgs = []\n",
    "ks = range(2, 11)\n",
    "for k in ks:\n",
    "    print(k)\n",
    "    kmeans_fit = cluster.KMeans(n_clusters = k, n_jobs = -1).fit(tab[x])\n",
    "    cluster_labels = kmeans_fit.labels_\n",
    "    silhouette_avg = metrics.silhouette_score(tab[x], cluster_labels)\n",
    "    silhouette_avgs.append(silhouette_avg)\n",
    "\n",
    "# 作圖並印出 k = 2 到 10 的績效\n",
    "plt.bar(ks, silhouette_avgs)\n",
    "plt.show()\n",
    "print(silhouette_avgs)"
   ]
  }
 ],
 "metadata": {
  "kernelspec": {
   "display_name": "Python 3",
   "language": "python",
   "name": "python3"
  },
  "language_info": {
   "codemirror_mode": {
    "name": "ipython",
    "version": 3
   },
   "file_extension": ".py",
   "mimetype": "text/x-python",
   "name": "python",
   "nbconvert_exporter": "python",
   "pygments_lexer": "ipython3",
   "version": "3.7.3"
  }
 },
 "nbformat": 4,
 "nbformat_minor": 2
}
