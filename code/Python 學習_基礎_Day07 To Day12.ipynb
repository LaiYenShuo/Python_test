{
 "cells": [
  {
   "cell_type": "markdown",
   "metadata": {},
   "source": [
    "## 第七天 迴圈與流程控制"
   ]
  },
  {
   "cell_type": "code",
   "execution_count": 1,
   "metadata": {},
   "outputs": [
    {
     "name": "stdout",
     "output_type": "stream",
     "text": [
      "49\n",
      "8\n",
      "12\n",
      "12\n",
      "6\n",
      "61\n",
      "---\n",
      "61\n",
      "\n",
      "\n",
      "Once deleted, variables cannot be recovered. Proceed (y/[n])? ｙ\n",
      "Once deleted, variables cannot be recovered. Proceed (y/[n])? y\n"
     ]
    }
   ],
   "source": [
    "# import package\n",
    "import numpy as np\n",
    "import pandas as pd\n",
    "ironmen = [49, 8, 12, 12, 6, 61]\n",
    "for ironmen in ironmen:\n",
    "        print(ironmen)\n",
    "print(\"---\")\n",
    "print(ironmen)\n",
    "print(\"\\n\")\n",
    "\n",
    "%reset"
   ]
  },
  {
   "cell_type": "code",
   "execution_count": 5,
   "metadata": {},
   "outputs": [
    {
     "name": "stdout",
     "output_type": "stream",
     "text": [
      "帶索引值的寫法\n",
      "49\n",
      "8\n",
      "12\n",
      "12\n",
      "6\n",
      "61\n",
      "---\n",
      "5\n"
     ]
    }
   ],
   "source": [
    "print(\"帶索引值的寫法\")\n",
    "ironmen = [49, 8, 12, 12, 6, 61]\n",
    "for index in list(range(len(ironmen))):\n",
    "    print(ironmen[index])\n",
    "print(\"---\")    \n",
    "print(index)"
   ]
  },
  {
   "cell_type": "code",
   "execution_count": 7,
   "metadata": {},
   "outputs": [
    {
     "name": "stdout",
     "output_type": "stream",
     "text": [
      "while 迴圈\n",
      "49\n",
      "8\n",
      "12\n",
      "12\n",
      "6\n",
      "61\n",
      "---\n",
      "6\n"
     ]
    }
   ],
   "source": [
    "print(\"while 迴圈\")\n",
    "ironmen = [49, 8, 12, 12, 6, 61]\n",
    "index = 0\n",
    "while index < len(ironmen):\n",
    "    print(ironmen[index])\n",
    "    index += 1\n",
    "print(\"---\")\n",
    "print(index)"
   ]
  },
  {
   "cell_type": "markdown",
   "metadata": {},
   "source": [
    "### python 的流程控制"
   ]
  },
  {
   "cell_type": "code",
   "execution_count": 5,
   "metadata": {},
   "outputs": [
    {
     "name": "stdout",
     "output_type": "stream",
     "text": [
      "[1, 2, 3, 4, 5, 6, 7, 8, 9, 10]\n",
      "1 是奇數\n",
      "2 是偶數\n",
      "3 是奇數\n",
      "4 是偶數\n",
      "5 是奇數\n",
      "6 是偶數\n",
      "7 是奇數\n",
      "8 是偶數\n",
      "9 是奇數\n",
      "10 是偶數\n",
      "----if-else-if--------\n",
      "1 除以3餘1\n",
      "2 除以3餘2\n",
      "3 可以被3整除\n",
      "4 除以3餘1\n",
      "5 除以3餘2\n",
      "6 可以被3整除\n",
      "7 除以3餘1\n",
      "8 除以3餘2\n",
      "9 可以被3整除\n",
      "10 除以3餘1\n"
     ]
    }
   ],
   "source": [
    "my_seq = list(range(1, 11))\n",
    "print(my_seq)\n",
    "for index in my_seq:\n",
    "    if(index % 2 == 0):\n",
    "        print(index, \"是偶數\")\n",
    "    else:\n",
    "        print(index, \"是奇數\")\n",
    "# -----------------------------        \n",
    "print(\"----if-else-if--------\")\n",
    "for index in my_seq:\n",
    "    if(index % 3 == 0):\n",
    "        print(index, \"可以被3整除\")\n",
    "    elif(index % 3 ==1):\n",
    "        print(index, \"除以3餘1\")\n",
    "    else:\n",
    "        print(index, \"除以3餘2\")"
   ]
  },
  {
   "cell_type": "markdown",
   "metadata": {},
   "source": [
    "### Python 的 break and continue"
   ]
  },
  {
   "cell_type": "code",
   "execution_count": 16,
   "metadata": {},
   "outputs": [
    {
     "name": "stdout",
     "output_type": "stream",
     "text": [
      "49\n",
      "---\n",
      "8\n",
      "Once deleted, variables cannot be recovered. Proceed (y/[n])? y\n",
      "---continue---\n",
      "49\n",
      "12\n",
      "12\n",
      "61\n",
      "---\n",
      "61\n"
     ]
    }
   ],
   "source": [
    "ironmen = [49, 8, 12, 12, 6, 61]\n",
    "for ironmen in ironmen:\n",
    "    if (ironmen < 10):\n",
    "        break\n",
    "    else:\n",
    "        print(ironmen)\n",
    "\n",
    "print(\"---\")\n",
    "print(ironmen)\n",
    "%reset \n",
    "#--------------------\n",
    "print(\"---continue---\")\n",
    "ironmen = [49, 8, 12, 12, 6, 61]\n",
    "for ironmen in ironmen:\n",
    "    if (ironmen < 10):\n",
    "        continue\n",
    "    else:\n",
    "        print(ironmen)\n",
    "print(\"---\")\n",
    "print(ironmen)"
   ]
  },
  {
   "cell_type": "markdown",
   "metadata": {},
   "source": [
    "## 第八天 函數"
   ]
  },
  {
   "cell_type": "code",
   "execution_count": 26,
   "metadata": {},
   "outputs": [
    {
     "name": "stdout",
     "output_type": "stream",
     "text": [
      "62\n",
      "6\n",
      "6\n",
      "[6, 8, 12, 16, 50, 62]\n",
      "[62, 50, 16, 12, 8, 6]\n"
     ]
    }
   ],
   "source": [
    "ironmen = [50, 8, 16, 12, 6, 62]\n",
    "print(max(ironmen))\n",
    "print(min(ironmen))\n",
    "print(len(ironmen)) \n",
    "print(sorted(ironmen))#遞增排序\n",
    "print(sorted(ironmen, reverse = True)) #遞減排序\n",
    "#---------------------"
   ]
  },
  {
   "cell_type": "markdown",
   "metadata": {},
   "source": [
    "## Python 的自訂函數"
   ]
  },
  {
   "cell_type": "code",
   "execution_count": 37,
   "metadata": {},
   "outputs": [
    {
     "name": "stdout",
     "output_type": "stream",
     "text": [
      "28.274333882308138\n",
      "18.84955592153876\n",
      "---exchange sort---\n",
      "[31, 99, 33, 74, 16, 60, 6, 35, 75, 65]\n",
      "[6, 16, 31, 33, 35, 60, 65, 74, 75, 99]\n",
      "[99, 75, 74, 65, 60, 35, 33, 31, 16, 6]\n",
      "---Python 自訂回傳多個值---\n",
      " 最多： 62 \n",
      " 最少： 6 \n",
      " 總組數： 6 \n",
      " 總鐵人數： 154\n",
      "---Python的lambda函數---\n",
      "[1500, 240, 480, 360, 180, 1860]\n"
     ]
    }
   ],
   "source": [
    "import math # if want to use pi call math package\n",
    "import random as rd\n",
    "# definite function\n",
    "def circle_calculate(r, area = True):\n",
    "    '''\n",
    "    根據輸入的半徑(r)和是否計算面積來決定結果\n",
    "    '''\n",
    "    circle_area = math.pi * r**2\n",
    "    circle_circum = 2 * r * math.pi\n",
    "    if area == True:\n",
    "        return circle_area\n",
    "    else:\n",
    "        return circle_circum\n",
    "    \n",
    "r = 3\n",
    "print(circle_calculate(3, area=True))\n",
    "print(circle_calculate(3, area=False))\n",
    "#-------------------\n",
    "print('---exchange sort---')\n",
    "\n",
    "def exchange_sort(input_list, reverse = False):\n",
    "    \"\"\"\n",
    "    reverse 參數預設值為 False 遞增排序\n",
    "    \"\"\"\n",
    "    if reverse == False:\n",
    "        for i in range(0, (len(input_list)-1)):\n",
    "            for j in range((i+1), len(input_list)):\n",
    "                if input_list[i] > input_list[j]:\n",
    "                    temp = input_list[i]\n",
    "                    input_list[i] = input_list[j]\n",
    "                    input_list[j] = temp\n",
    "    else:\n",
    "        for i in range(0, (len(input_list)-1)):\n",
    "            for j in range((i+1), len(input_list)):\n",
    "                if input_list[i] < input_list[j]:\n",
    "                    temp = input_list[i]\n",
    "                    input_list[i] = input_list[j]\n",
    "                    input_list[j] = temp\n",
    "    return input_list\n",
    "\n",
    "my_vector = rd.sample(range(0, 100), 10)\n",
    "print(my_vector)\n",
    "print(exchange_sort(my_vector, reverse = False))\n",
    "print(exchange_sort(my_vector, reverse = True))\n",
    "\n",
    "#----------------------------\n",
    "print('---Python 自訂回傳多個值---')\n",
    "def ironmen_stats(ironmen_list):\n",
    "    max_ironmen = max(ironmen_list)\n",
    "    min_ironmen = min(ironmen_list)\n",
    "    ttl_groups = len(ironmen_list)\n",
    "    ttl_ironmen = sum(ironmen)\n",
    "    return max_ironmen, min_ironmen, ttl_groups, ttl_ironmen\n",
    "ironmen = [50, 8, 16, 12, 6, 62]\n",
    "max_ironmen, min_ironmen, ttl_groups, ttl_ironmen = ironmen_stats(ironmen)\n",
    "print(\" 最多：\", max_ironmen, \"\\n\", \"最少：\", min_ironmen, \"\\n\", \"總組數：\", ttl_groups, \"\\n\", \"總鐵人數：\", ttl_ironmen)\n",
    "#----------------------------\n",
    "print('---Python的lambda函數---')\n",
    "ironmen = [50, 8, 16, 12, 6, 62]\n",
    "ironmen_articles = list(map(lambda x:x * 30, ironmen))\n",
    "print(ironmen_articles)\n"
   ]
  },
  {
   "cell_type": "markdown",
   "metadata": {},
   "source": [
    "## 第九天 函數(02)"
   ]
  },
  {
   "cell_type": "code",
   "execution_count": 8,
   "metadata": {},
   "outputs": [
    {
     "name": "stdout",
     "output_type": "stream",
     "text": [
      "---變數範圍---\n",
      "9\n",
      "1\n",
      "----Nested Function----\n",
      "[29, 82, 55, 63, 56, 22, 34, 53, 35, 13]\n"
     ]
    },
    {
     "data": {
      "text/plain": [
       "44.2"
      ]
     },
     "execution_count": 8,
     "metadata": {},
     "output_type": "execute_result"
    }
   ],
   "source": [
    "print('---變數範圍---')\n",
    "ans = 1 #全域變數\n",
    "# 自定義函數\n",
    "def my_square(input_number):\n",
    "    ans = input_number ** 2\n",
    "    return ans\n",
    "#呼叫函數\n",
    "print(my_square(3))\n",
    "print(ans)\n",
    "#--------------------------\n",
    "print('----Nested Function----')\n",
    "import random as rd\n",
    "def my_mean(input_vector):\n",
    "    '計算平均數'\n",
    "    def my_sum(input_vector):\n",
    "        '計算總和'\n",
    "        temp_sum = 0\n",
    "        for i in list(input_vector):\n",
    "            temp_sum += i\n",
    "        return temp_sum\n",
    "    def my_length(input_vector):\n",
    "        '計算長度'\n",
    "        temp_length = 0\n",
    "        for i in list(input_vector):\n",
    "            temp_length += 1\n",
    "        return temp_length\n",
    "    return (my_sum(input_vector) / my_length(input_vector))\n",
    "my_vector = rd.sample(range(0, 100), 10)\n",
    "print(my_vector)\n",
    "my_mean(my_vector)"
   ]
  },
  {
   "cell_type": "code",
   "execution_count": 11,
   "metadata": {},
   "outputs": [
    {
     "name": "stdout",
     "output_type": "stream",
     "text": [
      "錯誤處理 try - except\n",
      "9\n",
      "請輸入數值\n"
     ]
    }
   ],
   "source": [
    "print('錯誤處理', 'try - except')\n",
    "\n",
    "def my_square(input_number):\n",
    "    '計算平方且有錯誤處理的函數'\n",
    "    try:\n",
    "        ans = input_number ** 2\n",
    "        return ans\n",
    "    except:\n",
    "        print(\"請輸入數值\")\n",
    "#\n",
    "print(my_square(3))\n",
    "my_square('ironmen')"
   ]
  },
  {
   "cell_type": "markdown",
   "metadata": {},
   "source": [
    "## Python 的彈性參數（Flexible arguments）\\***\n",
    "### Python 可以使用 \\*args 或 \\**kwargs(Keyword arguments)來分別處理不帶鍵值與帶有鍵值的彈性數量參數，利用這個特性，我們不一定要使用資料結構把變數包裝起來當做輸入。"
   ]
  },
  {
   "cell_type": "code",
   "execution_count": 15,
   "metadata": {},
   "outputs": [
    {
     "name": "stdout",
     "output_type": "stream",
     "text": [
      "*args\n",
      "51\n",
      "8\n",
      "18\n",
      "13\n",
      "6\n",
      "---\n",
      "51\n",
      "8\n",
      "18\n",
      "13\n",
      "6\n",
      "64\n",
      "**kwargs\n",
      "ModernWeb : 51 人\n",
      "DevOps : 8 人\n",
      "Cloud : 18 人\n",
      "BigData : 13 人\n",
      "Security : 6 人\n",
      "自我挑戰組 : 64 人\n"
     ]
    }
   ],
   "source": [
    "print(\"*args\")\n",
    "def ironmen_list(*args):\n",
    "    '列出各組參賽人數'\n",
    "    for ironmen in args:\n",
    "        print(ironmen)\n",
    "        \n",
    "ironmen_list(51, 8, 18, 13, 6)\n",
    "print(\"---\")\n",
    "ironmen_list(51, 8, 18, 13, 6, 64)\n",
    "\n",
    "print(\"**kwargs\")\n",
    "\n",
    "def ironmen_list(**kwargs):\n",
    "    for key in kwargs:\n",
    "        print(key, \":\", kwargs[key], \"人\")\n",
    "\n",
    "ironmen_list(ModernWeb = 51, DevOps = 8, Cloud = 18, BigData = 13, Security = 6, 自我挑戰組 = 64)"
   ]
  },
  {
   "cell_type": "markdown",
   "metadata": {},
   "source": [
    "## $\\color{red}{第十天 物件導向 \\text{R} 語言}$\n"
   ]
  },
  {
   "cell_type": "code",
   "execution_count": 20,
   "metadata": {},
   "outputs": [
    {
     "data": {
      "text/html": [
       "<div>\n",
       "<style scoped>\n",
       "    .dataframe tbody tr th:only-of-type {\n",
       "        vertical-align: middle;\n",
       "    }\n",
       "\n",
       "    .dataframe tbody tr th {\n",
       "        vertical-align: top;\n",
       "    }\n",
       "\n",
       "    .dataframe thead th {\n",
       "        text-align: right;\n",
       "    }\n",
       "</style>\n",
       "<table border=\"1\" class=\"dataframe\">\n",
       "  <thead>\n",
       "    <tr style=\"text-align: right;\">\n",
       "      <th></th>\n",
       "      <th>groups</th>\n",
       "      <th>ironmen</th>\n",
       "    </tr>\n",
       "  </thead>\n",
       "  <tbody>\n",
       "    <tr>\n",
       "      <th>0</th>\n",
       "      <td>Modern</td>\n",
       "      <td>51</td>\n",
       "    </tr>\n",
       "    <tr>\n",
       "      <th>1</th>\n",
       "      <td>DevOps</td>\n",
       "      <td>8</td>\n",
       "    </tr>\n",
       "    <tr>\n",
       "      <th>2</th>\n",
       "      <td>Cloud</td>\n",
       "      <td>18</td>\n",
       "    </tr>\n",
       "  </tbody>\n",
       "</table>\n",
       "</div>"
      ],
      "text/plain": [
       "   groups  ironmen\n",
       "0  Modern       51\n",
       "1  DevOps        8\n",
       "2   Cloud       18"
      ]
     },
     "execution_count": 20,
     "metadata": {},
     "output_type": "execute_result"
    }
   ],
   "source": [
    "import pandas as pd\n",
    "groups = [\"Modern\", \"DevOps\", \"Cloud\", \"Big Data\", \"Security\", \"myself\"]\n",
    "ironmen = [51, 8, 18, 14, 6, 64]\n",
    "ironmen_dict = {\"groups\" : groups,\n",
    "                \"ironmen\" : ironmen}\n",
    "ironmen_df = pd.DataFrame(ironmen_dict)\n",
    "ironmen_df.head(n = 3)"
   ]
  },
  {
   "cell_type": "markdown",
   "metadata": {},
   "source": [
    "## $\\color{red}{第十一天物件導向(2) \\text{Python}}$"
   ]
  },
  {
   "cell_type": "code",
   "execution_count": 14,
   "metadata": {},
   "outputs": [
    {
     "name": "stdout",
     "output_type": "stream",
     "text": [
      "groups     object\n",
      "ironmen     int64\n",
      "dtype: object\n"
     ]
    },
    {
     "data": {
      "text/html": [
       "<div>\n",
       "<style scoped>\n",
       "    .dataframe tbody tr th:only-of-type {\n",
       "        vertical-align: middle;\n",
       "    }\n",
       "\n",
       "    .dataframe tbody tr th {\n",
       "        vertical-align: top;\n",
       "    }\n",
       "\n",
       "    .dataframe thead th {\n",
       "        text-align: right;\n",
       "    }\n",
       "</style>\n",
       "<table border=\"1\" class=\"dataframe\">\n",
       "  <thead>\n",
       "    <tr style=\"text-align: right;\">\n",
       "      <th></th>\n",
       "      <th>groups</th>\n",
       "      <th>ironmen</th>\n",
       "    </tr>\n",
       "  </thead>\n",
       "  <tbody>\n",
       "    <tr>\n",
       "      <th>0</th>\n",
       "      <td>Modern</td>\n",
       "      <td>54</td>\n",
       "    </tr>\n",
       "    <tr>\n",
       "      <th>1</th>\n",
       "      <td>DevOps</td>\n",
       "      <td>8</td>\n",
       "    </tr>\n",
       "    <tr>\n",
       "      <th>2</th>\n",
       "      <td>Cloud</td>\n",
       "      <td>18</td>\n",
       "    </tr>\n",
       "  </tbody>\n",
       "</table>\n",
       "</div>"
      ],
      "text/plain": [
       "   groups  ironmen\n",
       "0  Modern       54\n",
       "1  DevOps        8\n",
       "2   Cloud       18"
      ]
     },
     "execution_count": 14,
     "metadata": {},
     "output_type": "execute_result"
    }
   ],
   "source": [
    "import pandas as pd\n",
    "\n",
    "groups = [\"Modern\", \"DevOps\", \"Cloud\", \"Big Data\", \"Security\", \"myself\"]\n",
    "# 截至 2016-12-11 上午 11 時\n",
    "#第 8 屆 iT 邦幫忙各組的鐵人分別是 54、8、18、14、6 與 65 人\n",
    "ironmen = [54, 8, 18, 14, 6, 65]\n",
    "ironmen_dict = {\"groups\":groups,\n",
    "                \"ironmen\":ironmen\n",
    "               }\n",
    "ironmen_df = pd.DataFrame(ironmen_dict)\n",
    "print(ironmen_df.dtypes)\n",
    "ironmen_df.head(n = 3)\n",
    "#-----------------"
   ]
  },
  {
   "cell_type": "code",
   "execution_count": 18,
   "metadata": {},
   "outputs": [
    {
     "name": "stdout",
     "output_type": "stream",
     "text": [
      "---定義類別(Class)---\n",
      "<class '__main__.Ironmen'>\n",
      "<__main__.Ironmen object at 0x00000231FCBA6EB8>\n",
      "Modern Web\n",
      "54\n",
      "這是一個叫做Ironmen的類別\n"
     ]
    }
   ],
   "source": [
    "print(\"---定義類別(Class)---\")\n",
    "class Ironmen:\n",
    "    '''這是一個叫做Ironmen的類別'''# Dos String\n",
    "    def __init__(self, group, participants):\n",
    "        self.group = group\n",
    "        self.participants = participants\n",
    "\n",
    "print(Ironmen)        \n",
    "# 根據 Ironmen 類別建立一個物件 modern_web\n",
    "modern_web = Ironmen(\"Modern Web\", 54)\n",
    "print(modern_web)\n",
    "\n",
    "# 印出 modern_web 的兩個屬性\n",
    "print(modern_web.group)\n",
    "print(modern_web.participants)\n",
    "\n",
    "# 印出 modern_web 的類別 doc string\n",
    "print(modern_web.__doc__)\n",
    "#dir(modern_web)"
   ]
  },
  {
   "cell_type": "code",
   "execution_count": 1,
   "metadata": {},
   "outputs": [
    {
     "name": "stdout",
     "output_type": "stream",
     "text": [
      "定義方法(method)\n",
      "Modern Web 組有 54 位鐵人參賽!\n",
      "DevOps 組有 8 位鐵人參賽!\n"
     ]
    }
   ],
   "source": [
    "print('定義方法(method)')\n",
    "\n",
    "class Ironmen:\n",
    "    def __init__(self, group, part):\n",
    "        self.group = group\n",
    "        self.part = part\n",
    "        \n",
    "    def print_info(self):\n",
    "        print(self.group, \"組有\", self.part, \"位鐵人參賽!\")\n",
    "        \n",
    "# 根據 Ironmen 類別建立一個物件 modern_web\n",
    "modern_web = Ironmen(\"Modern Web\", 54)\n",
    "\n",
    "# 根據 Ironmen 類別建立一個物件 dev_ops\n",
    "dev_ops = Ironmen(\"DevOps\", 8)\n",
    "\n",
    "# 使用 modern_web 的 print_info() 方法\n",
    "modern_web.print_info()\n",
    "\n",
    "dev_ops.print_info()\n"
   ]
  },
  {
   "cell_type": "code",
   "execution_count": 4,
   "metadata": {},
   "outputs": [
    {
     "name": "stdout",
     "output_type": "stream",
     "text": [
      "繼承(Inheritance)\n",
      "Modern Web 組預計會有 1620 篇文章!\n",
      "Modern Web 組有 54 為鐵人參賽!\n"
     ]
    }
   ],
   "source": [
    "print('繼承(Inheritance)')\n",
    "\n",
    "class Ironmen:\n",
    "    def __init__(self, group, part):\n",
    "        self.group = group\n",
    "        self.part = part\n",
    "        \n",
    "    def print_info(self):\n",
    "        print(self.group, \"組有\", self.part, \"為鐵人參賽!\")\n",
    "        \n",
    "# Articles 類別繼承 Ironmen 繼承\n",
    "\n",
    "class Articles(Ironmen):\n",
    "    '''\n",
    "    這是一個叫做 Articles 的類別。\n",
    "    Articles 繼承 Ironmen 類別，她新增了一個 print_articles() 方法\n",
    "    '''\n",
    "    \n",
    "    def print_articles(self):\n",
    "        print(self.group, \"組預計會有\", self.part * 30, \"篇文章!\")\n",
    "        \n",
    "# 根據 Articles 類別建立一個物件 modern_web\n",
    "modern_web = Articles(\"Modern Web\", 54)\n",
    "# 使用 modern_web 的 print_articles() 方法\n",
    "modern_web.print_articles()\n",
    "# 檢查 modern_web 是否還擁有 print_info() 方法\n",
    "modern_web.print_info()\n"
   ]
  },
  {
   "cell_type": "code",
   "execution_count": 8,
   "metadata": {},
   "outputs": [
    {
     "name": "stdout",
     "output_type": "stream",
     "text": [
      "在繼承時使用 super()\n",
      "Modern Web\n",
      "54\n",
      "8\n"
     ]
    }
   ],
   "source": [
    "print('在繼承時使用 super()')\n",
    "class OnlyGroup:\n",
    "    '''這是一個叫做 OnlyGroup 的類別'''\n",
    "    def __init__(self, group):\n",
    "        self.group = group\n",
    "        \n",
    "# Ironmen 類別繼承 OnlyGroup 類別\n",
    "class Ironmen(OnlyGroup):\n",
    "    '''這是一個叫做 Ironmen 的類別''' # Doc string\n",
    "    def __init__(self, group, part):\n",
    "        super().__init__(group)\n",
    "        self.part = part\n",
    "        \n",
    "# 根據 Ironmen 類別建立一個物件 modern_web\n",
    "modern_web = Ironmen(\"Modern Web\", 54)\n",
    "dev_ops = Ironmen(\"DevOps\", 8)\n",
    "# 印出 modern_web 的兩個屬性\n",
    "print(modern_web.group)\n",
    "print(modern_web.part)\n",
    "print(dev_ops.part)"
   ]
  },
  {
   "cell_type": "code",
   "execution_count": 11,
   "metadata": {},
   "outputs": [
    {
     "name": "stdout",
     "output_type": "stream",
     "text": [
      "在繼承時改寫方法（Override）\n",
      "Modern Web 組有 54 位鐵人參賽! p.s.我被改寫了\n"
     ]
    }
   ],
   "source": [
    "print('在繼承時改寫方法（Override）')\n",
    "class Ironmen:\n",
    "    def __init__(self, group, part):\n",
    "        self.group = group\n",
    "        self.part = part\n",
    "        \n",
    "    def print_info(self):\n",
    "        print(self.group, \"組有\", self.part, \"位鐵人參賽!\")\n",
    "\n",
    "# Articles 類別繼承 Ironmen 類別\n",
    "\n",
    "class Articles(Ironmen):\n",
    "    def print_articles(self):\n",
    "        print(self.group, \"組預計會有\", self.part * 30, \"篇文章!\")\n",
    "    \n",
    "    # 改寫 print_info() 方法\n",
    "    def print_info(self):\n",
    "        print(self.group, \"組有\", self.part, \"位鐵人參賽! p.s.我被改寫了\")\n",
    "\n",
    "modern_web = Articles(\"Modern Web\", 54)\n",
    "\n",
    "modern_web.print_info()"
   ]
  },
  {
   "cell_type": "markdown",
   "metadata": {},
   "source": [
    "## 第十二天 常用屬性或方法 變數與基本資料結構"
   ]
  },
  {
   "cell_type": "code",
   "execution_count": 1,
   "metadata": {},
   "outputs": [
    {
     "name": "stdout",
     "output_type": "stream",
     "text": [
      "(2448832297382707, 281474976710656)\n",
      "False\n",
      "0x1.1666666666666p+3\n",
      "8.7\n",
      "--- int ---\n",
      "7\n",
      "b'\\x00W'\n",
      "87\n",
      "---\n",
      "b'\\x00\\x00\\x00\\x00\\x00\\x00\\x00\\x00\\x00W'\n",
      "87\n",
      "--- complex ---\n",
      "8.0\n",
      "7.0\n",
      "(8-7j)\n"
     ]
    }
   ],
   "source": [
    "# float\n",
    "# 浮點數（float）屬於 numbers.Real 類別（繼承自 abstract base 類別。）\n",
    "my_float = 8.7\n",
    "print(my_float.as_integer_ratio()) # 回傳兩個整數，第一個整數為浮點數的分子，第二個整數則為分母\n",
    "print(my_float.is_integer()) # 判斷 float 是否為整數\n",
    "print(my_float.hex()) # 回傳 float 的十六進位字串\n",
    "print(my_float.fromhex(\"0x1.1666666666666p+3\")) # 將表示十六進位數字字串的 s 轉換成浮點數\n",
    "# int\n",
    "# 整數（int）屬於 numbers.Integral 類別（繼承自 abstract base 類別。）\n",
    "print('--- int ---')\n",
    "my_int = 87\n",
    "print(my_int.bit_length()) # 回傳 整數 的二進位形式共佔多少長度\n",
    "print(my_int.to_bytes(length = 2, byteorder = \"big\"))\n",
    "print(int.from_bytes(b'\\x00W', byteorder = \"big\"))\n",
    "print('---')\n",
    "print(my_int.to_bytes(length = 10, byteorder = \"big\"))\n",
    "print(int.from_bytes(b'\\x00\\x00\\x00\\x00\\x00\\x00\\x00\\x00\\x00W', byteorder = \"big\"))\n",
    "# complex\n",
    "# 複數（complex）屬於 numbers.Complex 類別（繼承自 abstract base 類別）。\n",
    "print(\"--- complex ---\")\n",
    "my_complex = 8 + 7j\n",
    "print(my_complex.real) # 實數部\n",
    "print(my_complex.imag) # 虛數部\n",
    "print(my_complex.conjugate()) # 共軛複數"
   ]
  },
  {
   "cell_type": "code",
   "execution_count": 44,
   "metadata": {},
   "outputs": [
    {
     "name": "stdout",
     "output_type": "stream",
     "text": [
      "---文字（str）---\n",
      "True\n",
      "False\n",
      "9\n",
      "3\n",
      "it's the 2017 ithelp ironmen contest\n",
      "It's the 2017 ithelp ironmen contest!!!\n",
      "It'S The 2017 Ithelp Ironmen Contest!!!\n",
      "IT'S THE 2017 ITHELP IRONMEN CONTEST!!!\n",
      "it's the 2017 ithelp ironmen contest!!!\n",
      "IT'S THE 2017 ITHELP IRONMEN CONTEST!!!\n",
      "it's the 2017 ithelp ironmen competition!!!\n",
      "布林值（bool）\n",
      "1\n",
      "b'\\x00\\x01'\n",
      "True\n",
      "---\n",
      "b'\\x00\\x00\\x00\\x00\\x00\\x00\\x00\\x00\\x00\\x01'\n",
      "True\n"
     ]
    }
   ],
   "source": [
    "print(\"---文字（str）---\")\n",
    "# 文字（str）\n",
    "# 文字（str）有太多方法可以使用，我們簡單列了一些常用方法。\n",
    "my_str = \"it's the 2017 ithelp ironmen contest!!!\"\n",
    "print(my_str.startswith(\"it's\"))\n",
    "print(my_str.endswith(\"contest??\"))\n",
    "print(my_str.find(\"2017\"))\n",
    "print(my_str.count(\"!\"))\n",
    "print(my_str.strip(\"!\")) # 该方法只能删除开头或是结尾的字符，不能删除中间部分的字符。\n",
    "print(my_str.capitalize())\n",
    "print(my_str.title())\n",
    "print(my_str.upper())\n",
    "print(my_str.lower())\n",
    "print(my_str.swapcase())\n",
    "print(my_str.replace(\"contest\", \"competition\"))\n",
    "print(\"布林值（bool）\")\n",
    "# 布林值（bool）\n",
    "# 布林值（bool）的方法或屬性與 int 幾乎相同。\n",
    "my_bool = True\n",
    "print(my_bool.bit_length())\n",
    "print(my_bool.to_bytes(length = 2, byteorder = \"big\"))\n",
    "print(bool.from_bytes(b'\\x00\\x01', byteorder = \"big\"))\n",
    "print(\"---\")\n",
    "print(my_bool.to_bytes(length = 10, byteorder = \"big\"))\n",
    "print(bool.from_bytes(b'\\x00\\x00\\x00\\x00\\x00\\x00\\x00\\x00\\x00\\x01', byteorder = \"big\"))"
   ]
  },
  {
   "cell_type": "code",
   "execution_count": 34,
   "metadata": {},
   "outputs": [
    {
     "name": "stdout",
     "output_type": "stream",
     "text": [
      "基本資料結構的屬性或方法\n",
      "[56, 8, 18, 14, 6, 66]\n",
      "[56, 8, 18, 14, 6]\n",
      "[56, 8, 18, 14, 6, 66]\n",
      "[56, 8, 18, 14, 6]\n",
      "2\n",
      "[6, 8, 14, 18, 56, 66]\n",
      "[66, 56, 18, 14, 8, 6]\n"
     ]
    }
   ],
   "source": [
    "print(\"基本資料結構的屬性或方法\")\n",
    "ironmen = [56, 8, 18, 14, 6]\n",
    "ironmen.append(66)\n",
    "print(ironmen)\n",
    "ironmen.pop()\n",
    "print(ironmen)\n",
    "ironmen.insert(5, 66) # (位置, 值)\n",
    "print(ironmen)\n",
    "ironmen.remove(66)\n",
    "print(ironmen)\n",
    "ironmen.index(56)\n",
    "ironmen.append(66)\n",
    "ironmen.append(66)\n",
    "print(ironmen.count(66))\n",
    "ironmen.pop()\n",
    "ironmen.sort()\n",
    "print(ironmen)\n",
    "ironmen.reverse()\n",
    "print(ironmen)"
   ]
  },
  {
   "cell_type": "code",
   "execution_count": 45,
   "metadata": {},
   "outputs": [
    {
     "name": "stdout",
     "output_type": "stream",
     "text": [
      "0\n",
      "2\n",
      "66\n",
      "dict_keys(['Modern Web', 'DevOps', 'Cloud', 'Big Data', 'Security', 'myself'])\n",
      "dict_items([('Modern Web', 56), ('DevOps', 8), ('Cloud', 18), ('Big Data', 14), ('Security', 6), ('myself', 66)])\n",
      "dict_values([56, 8, 18, 14, 6, 66])\n"
     ]
    },
    {
     "data": {
      "text/plain": [
       "['__class__',\n",
       " '__contains__',\n",
       " '__delattr__',\n",
       " '__delitem__',\n",
       " '__dir__',\n",
       " '__doc__',\n",
       " '__eq__',\n",
       " '__format__',\n",
       " '__ge__',\n",
       " '__getattribute__',\n",
       " '__getitem__',\n",
       " '__gt__',\n",
       " '__hash__',\n",
       " '__init__',\n",
       " '__init_subclass__',\n",
       " '__iter__',\n",
       " '__le__',\n",
       " '__len__',\n",
       " '__lt__',\n",
       " '__ne__',\n",
       " '__new__',\n",
       " '__reduce__',\n",
       " '__reduce_ex__',\n",
       " '__repr__',\n",
       " '__setattr__',\n",
       " '__setitem__',\n",
       " '__sizeof__',\n",
       " '__str__',\n",
       " '__subclasshook__',\n",
       " 'clear',\n",
       " 'copy',\n",
       " 'fromkeys',\n",
       " 'get',\n",
       " 'items',\n",
       " 'keys',\n",
       " 'pop',\n",
       " 'popitem',\n",
       " 'setdefault',\n",
       " 'update',\n",
       " 'values']"
      ]
     },
     "execution_count": 45,
     "metadata": {},
     "output_type": "execute_result"
    }
   ],
   "source": [
    "# tuple\n",
    "# tuple 是一個不可變（immutable）的資料結構，所以不會有改變內容的方法。\n",
    "my_tuple = (56, 8, 18, 14, 6, 6)\n",
    "print(my_tuple.index(56))\n",
    "print(my_tuple.count(6))\n",
    "\n",
    "# dictionary\n",
    "# dictionary 有太多方法可以使用，我們簡單列了一些常用方法。\n",
    "ironmen_dict = {\"Modern Web\": 56,\n",
    "                \"DevOps\": 8,\n",
    "                \"Cloud\": 18,\n",
    "                \"Big Data\": 14,\n",
    "                \"Security\": 6,\n",
    "                \"myself\": 66\n",
    "                }\n",
    "print(ironmen_dict.get(\"myself\"))\n",
    "print(ironmen_dict.keys())\n",
    "print(ironmen_dict.items())\n",
    "print(ironmen_dict.values())\n",
    "dir(ironmen_dict)"
   ]
  }
 ],
 "metadata": {
  "celltoolbar": "Raw Cell Format",
  "kernelspec": {
   "display_name": "Python 3",
   "language": "python",
   "name": "python3"
  },
  "language_info": {
   "codemirror_mode": {
    "name": "ipython",
    "version": 3
   },
   "file_extension": ".py",
   "mimetype": "text/x-python",
   "name": "python",
   "nbconvert_exporter": "python",
   "pygments_lexer": "ipython3",
   "version": "3.6.4"
  }
 },
 "nbformat": 4,
 "nbformat_minor": 2
}
