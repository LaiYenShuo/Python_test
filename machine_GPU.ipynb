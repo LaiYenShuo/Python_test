{
  "nbformat": 4,
  "nbformat_minor": 0,
  "metadata": {
    "colab": {
      "name": "machine_GPU.ipynb",
      "provenance": [],
      "private_outputs": true,
      "authorship_tag": "ABX9TyN7yHaCg4m3Y42jJC7vwZhD",
      "include_colab_link": true
    },
    "kernelspec": {
      "name": "python3",
      "display_name": "Python 3"
    },
    "accelerator": "GPU"
  },
  "cells": [
    {
      "cell_type": "markdown",
      "metadata": {
        "id": "view-in-github",
        "colab_type": "text"
      },
      "source": [
        "<a href=\"https://colab.research.google.com/github/LaiYenShuo/Python_test/blob/master/machine_GPU.ipynb\" target=\"_parent\"><img src=\"https://colab.research.google.com/assets/colab-badge.svg\" alt=\"Open In Colab\"/></a>"
      ]
    },
    {
      "cell_type": "code",
      "metadata": {
        "id": "AvCnfScz9ohO",
        "colab_type": "code",
        "colab": {}
      },
      "source": [
        "import numpy as np\n",
        "from keras.models import Sequential\n",
        "from keras.layers.core import Dense, Dropout, Activation\n",
        "from keras.layers import Conv2D, MaxPooling2D, Flatten\n",
        "from keras.optimizers import SGD, Adam, RMSprop\n",
        "from keras.utils import np_utils\n",
        "from keras.datasets import mnist\n",
        "\n",
        "# categorical_crossentropy\n",
        "\n",
        "def load_data():\n",
        "    (x_train, y_train), (x_test, y_test) = mnist.load_data()\n",
        "    number = 10000\n",
        "    x_train = x_train[0:number]\n",
        "    y_train = y_train[0:number]\n",
        "\n",
        "    # * MLP : image reshape (60000, 784): MLP 因為直接送進神經元處理, 所以 60,000 筆轉換為一筆成 28x28 = 784 個神經元輸入.\n",
        "    # * CNN : image reshape (60000, 28, 28, 1): CNN 因為必須先進行卷積與池化 (Max-Pool) 運算,\n",
        "    # 所以必須保留影像的維度. 因此 60,000 筆轉換成一筆成 28 (長) x 28(寬) x 1(高) 的影像單位.\n",
        "\n",
        "    x_train = x_train.reshape(number, 28, 28, 1)\n",
        "    x_test = x_test.reshape(x_test.shape[0], 28, 28, 1)\n",
        "    x_train = x_train.astype('float32')\n",
        "    x_test = x_test.astype('float32')\n",
        "    # convert class vectors to binary class matrices\n",
        "    y_train = np_utils.to_categorical(y_train, 10)\n",
        "    y_test = np_utils.to_categorical(y_test, 10)\n",
        "    x_train = x_train\n",
        "    x_test = x_test\n",
        "    x_train = x_train / 255\n",
        "    x_test = x_test / 255\n",
        "    # x_test = np.random.normal(x_test)\n",
        "    return (x_train, y_train), (x_test, y_test)\n",
        " #%%\n",
        "(x_train, y_train), (x_test, y_test) = load_data()\n",
        "model = Sequential() \n",
        "model.add(Conv2D(filters=25, kernel_size=(3, 3), input_shape=(28, 28, 1), activation='relu'))\n",
        "model.add(MaxPooling2D(2, 2))\n",
        "model.add(Conv2D(filters=50, kernel_size=(3, 3)))\n",
        "model.add(MaxPooling2D(2, 2))\n",
        "model.add(Conv2D(filters=100, kernel_size=(3, 3)))\n",
        "model.add(MaxPooling2D(2, 2))\n",
        "model.add(Flatten())\n",
        "model.add(Dense(200, activation='relu'))\n",
        "model.add(Dense(100, activation='relu'))\n",
        "model.add(Dense(10, activation='softmax'))\n",
        "model.summary()\n",
        "# categorical_crossentropy\n",
        "model.compile(loss='categorical_crossentropy', optimizer=RMSprop(), metrics=['accuracy'])\n",
        "model_fit = model.fit(x_train, y_train, batch_size=100, epochs=20)\n",
        "\n",
        "train_result = model.evaluate(x_train, y_train, batch_size=10000)\n",
        "test_result = model.evaluate(x_test, y_test, batch_size=10000)\n",
        "\n",
        "print('\\nTrain Acc:', train_result[1])\n",
        "print('\\nTest Acc:', test_result[1])"
      ],
      "execution_count": null,
      "outputs": []
    },
    {
      "cell_type": "code",
      "metadata": {
        "id": "TGNA1CEd_s6K",
        "colab_type": "code",
        "colab": {}
      },
      "source": [
        "from google.colab import drive\n",
        "drive.mount('/content/drive')"
      ],
      "execution_count": null,
      "outputs": []
    },
    {
      "cell_type": "markdown",
      "metadata": {
        "id": "k4OxQeCX-VWZ",
        "colab_type": "text"
      },
      "source": [
        "Machine Info\n"
      ]
    },
    {
      "cell_type": "code",
      "metadata": {
        "id": "bcmK_mVu-V9-",
        "colab_type": "code",
        "colab": {}
      },
      "source": [
        ""
      ],
      "execution_count": null,
      "outputs": []
    }
  ]
}